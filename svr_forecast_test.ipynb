{
 "cells": [
  {
   "cell_type": "code",
   "execution_count": 47,
   "metadata": {},
   "outputs": [
    {
     "name": "stdout",
     "output_type": "stream",
     "text": [
      "[*********************100%***********************]  1 of 1 completed\n"
     ]
    }
   ],
   "source": [
    "import yfinance as yf\n",
    "df = yf.download('MSFT', '2015-01-01', '2020-01-01')\n",
    "#df['TimeIndex'] = [i for i in range(df.shape[0])]\n",
    "df['Days From Start'] = [(df.index[i].to_pydatetime() - df.index[0].to_pydatetime()).days for i in range(df.shape[0])]"
   ]
  },
  {
   "cell_type": "code",
   "execution_count": 48,
   "metadata": {},
   "outputs": [
    {
     "data": {
      "text/html": [
       "<div>\n",
       "<style scoped>\n",
       "    .dataframe tbody tr th:only-of-type {\n",
       "        vertical-align: middle;\n",
       "    }\n",
       "\n",
       "    .dataframe tbody tr th {\n",
       "        vertical-align: top;\n",
       "    }\n",
       "\n",
       "    .dataframe thead th {\n",
       "        text-align: right;\n",
       "    }\n",
       "</style>\n",
       "<table border=\"1\" class=\"dataframe\">\n",
       "  <thead>\n",
       "    <tr style=\"text-align: right;\">\n",
       "      <th></th>\n",
       "      <th>Open</th>\n",
       "      <th>High</th>\n",
       "      <th>Low</th>\n",
       "      <th>Close</th>\n",
       "      <th>Adj Close</th>\n",
       "      <th>Volume</th>\n",
       "      <th>Days From Start</th>\n",
       "    </tr>\n",
       "    <tr>\n",
       "      <th>Date</th>\n",
       "      <th></th>\n",
       "      <th></th>\n",
       "      <th></th>\n",
       "      <th></th>\n",
       "      <th></th>\n",
       "      <th></th>\n",
       "      <th></th>\n",
       "    </tr>\n",
       "  </thead>\n",
       "  <tbody>\n",
       "    <tr>\n",
       "      <th>2015-01-02</th>\n",
       "      <td>46.660000</td>\n",
       "      <td>47.419998</td>\n",
       "      <td>46.540001</td>\n",
       "      <td>46.759998</td>\n",
       "      <td>41.269203</td>\n",
       "      <td>27913900</td>\n",
       "      <td>0</td>\n",
       "    </tr>\n",
       "    <tr>\n",
       "      <th>2015-01-05</th>\n",
       "      <td>46.369999</td>\n",
       "      <td>46.730000</td>\n",
       "      <td>46.250000</td>\n",
       "      <td>46.330002</td>\n",
       "      <td>40.889702</td>\n",
       "      <td>39673900</td>\n",
       "      <td>3</td>\n",
       "    </tr>\n",
       "    <tr>\n",
       "      <th>2015-01-06</th>\n",
       "      <td>46.380001</td>\n",
       "      <td>46.750000</td>\n",
       "      <td>45.540001</td>\n",
       "      <td>45.650002</td>\n",
       "      <td>40.289551</td>\n",
       "      <td>36447900</td>\n",
       "      <td>4</td>\n",
       "    </tr>\n",
       "    <tr>\n",
       "      <th>2015-01-07</th>\n",
       "      <td>45.980000</td>\n",
       "      <td>46.459999</td>\n",
       "      <td>45.490002</td>\n",
       "      <td>46.230000</td>\n",
       "      <td>40.801441</td>\n",
       "      <td>29114100</td>\n",
       "      <td>5</td>\n",
       "    </tr>\n",
       "    <tr>\n",
       "      <th>2015-01-08</th>\n",
       "      <td>46.750000</td>\n",
       "      <td>47.750000</td>\n",
       "      <td>46.720001</td>\n",
       "      <td>47.590000</td>\n",
       "      <td>42.001751</td>\n",
       "      <td>29645200</td>\n",
       "      <td>6</td>\n",
       "    </tr>\n",
       "    <tr>\n",
       "      <th>...</th>\n",
       "      <td>...</td>\n",
       "      <td>...</td>\n",
       "      <td>...</td>\n",
       "      <td>...</td>\n",
       "      <td>...</td>\n",
       "      <td>...</td>\n",
       "      <td>...</td>\n",
       "    </tr>\n",
       "    <tr>\n",
       "      <th>2019-12-24</th>\n",
       "      <td>157.479996</td>\n",
       "      <td>157.710007</td>\n",
       "      <td>157.119995</td>\n",
       "      <td>157.380005</td>\n",
       "      <td>154.718277</td>\n",
       "      <td>8989200</td>\n",
       "      <td>1817</td>\n",
       "    </tr>\n",
       "    <tr>\n",
       "      <th>2019-12-26</th>\n",
       "      <td>157.559998</td>\n",
       "      <td>158.729996</td>\n",
       "      <td>157.399994</td>\n",
       "      <td>158.669998</td>\n",
       "      <td>155.986435</td>\n",
       "      <td>14520600</td>\n",
       "      <td>1819</td>\n",
       "    </tr>\n",
       "    <tr>\n",
       "      <th>2019-12-27</th>\n",
       "      <td>159.449997</td>\n",
       "      <td>159.550003</td>\n",
       "      <td>158.220001</td>\n",
       "      <td>158.960007</td>\n",
       "      <td>156.271545</td>\n",
       "      <td>18412800</td>\n",
       "      <td>1820</td>\n",
       "    </tr>\n",
       "    <tr>\n",
       "      <th>2019-12-30</th>\n",
       "      <td>158.990005</td>\n",
       "      <td>159.020004</td>\n",
       "      <td>156.729996</td>\n",
       "      <td>157.589996</td>\n",
       "      <td>154.924728</td>\n",
       "      <td>16348400</td>\n",
       "      <td>1823</td>\n",
       "    </tr>\n",
       "    <tr>\n",
       "      <th>2019-12-31</th>\n",
       "      <td>156.770004</td>\n",
       "      <td>157.770004</td>\n",
       "      <td>156.449997</td>\n",
       "      <td>157.699997</td>\n",
       "      <td>155.032883</td>\n",
       "      <td>18369400</td>\n",
       "      <td>1824</td>\n",
       "    </tr>\n",
       "  </tbody>\n",
       "</table>\n",
       "<p>1258 rows × 7 columns</p>\n",
       "</div>"
      ],
      "text/plain": [
       "                  Open        High         Low       Close   Adj Close  \\\n",
       "Date                                                                     \n",
       "2015-01-02   46.660000   47.419998   46.540001   46.759998   41.269203   \n",
       "2015-01-05   46.369999   46.730000   46.250000   46.330002   40.889702   \n",
       "2015-01-06   46.380001   46.750000   45.540001   45.650002   40.289551   \n",
       "2015-01-07   45.980000   46.459999   45.490002   46.230000   40.801441   \n",
       "2015-01-08   46.750000   47.750000   46.720001   47.590000   42.001751   \n",
       "...                ...         ...         ...         ...         ...   \n",
       "2019-12-24  157.479996  157.710007  157.119995  157.380005  154.718277   \n",
       "2019-12-26  157.559998  158.729996  157.399994  158.669998  155.986435   \n",
       "2019-12-27  159.449997  159.550003  158.220001  158.960007  156.271545   \n",
       "2019-12-30  158.990005  159.020004  156.729996  157.589996  154.924728   \n",
       "2019-12-31  156.770004  157.770004  156.449997  157.699997  155.032883   \n",
       "\n",
       "              Volume  Days From Start  \n",
       "Date                                   \n",
       "2015-01-02  27913900                0  \n",
       "2015-01-05  39673900                3  \n",
       "2015-01-06  36447900                4  \n",
       "2015-01-07  29114100                5  \n",
       "2015-01-08  29645200                6  \n",
       "...              ...              ...  \n",
       "2019-12-24   8989200             1817  \n",
       "2019-12-26  14520600             1819  \n",
       "2019-12-27  18412800             1820  \n",
       "2019-12-30  16348400             1823  \n",
       "2019-12-31  18369400             1824  \n",
       "\n",
       "[1258 rows x 7 columns]"
      ]
     },
     "execution_count": 48,
     "metadata": {},
     "output_type": "execute_result"
    }
   ],
   "source": [
    "df"
   ]
  },
  {
   "cell_type": "code",
   "execution_count": 49,
   "metadata": {},
   "outputs": [
    {
     "data": {
      "text/plain": [
       "pandas.core.indexes.datetimes.DatetimeIndex"
      ]
     },
     "execution_count": 49,
     "metadata": {},
     "output_type": "execute_result"
    }
   ],
   "source": [
    "type(df.index)"
   ]
  },
  {
   "cell_type": "code",
   "execution_count": 50,
   "metadata": {},
   "outputs": [
    {
     "data": {
      "text/plain": [
       "pandas._libs.tslibs.timestamps.Timestamp"
      ]
     },
     "execution_count": 50,
     "metadata": {},
     "output_type": "execute_result"
    }
   ],
   "source": [
    "type(df.index[0])"
   ]
  },
  {
   "cell_type": "code",
   "execution_count": 51,
   "metadata": {},
   "outputs": [
    {
     "name": "stdout",
     "output_type": "stream",
     "text": [
      "3 days, 0:00:00\n"
     ]
    }
   ],
   "source": [
    "from datetime import datetime, timedelta\n",
    "\n",
    "t0 = df.index[0].to_pydatetime()\n",
    "t1 = df.index[1].to_pydatetime()\n",
    "duration = t1 - t0\n",
    "print(duration) # must be a weekend!"
   ]
  },
  {
   "cell_type": "code",
   "execution_count": 52,
   "metadata": {},
   "outputs": [
    {
     "data": {
      "text/plain": [
       "DatetimeIndex(['2015-01-02 00:00:00+00:00', '2015-01-05 00:00:00+00:00',\n",
       "               '2015-01-06 00:00:00+00:00', '2015-01-07 00:00:00+00:00',\n",
       "               '2015-01-08 00:00:00+00:00', '2015-01-09 00:00:00+00:00',\n",
       "               '2015-01-12 00:00:00+00:00', '2015-01-13 00:00:00+00:00',\n",
       "               '2015-01-14 00:00:00+00:00', '2015-01-15 00:00:00+00:00',\n",
       "               ...\n",
       "               '2019-12-17 00:00:00+00:00', '2019-12-18 00:00:00+00:00',\n",
       "               '2019-12-19 00:00:00+00:00', '2019-12-20 00:00:00+00:00',\n",
       "               '2019-12-23 00:00:00+00:00', '2019-12-24 00:00:00+00:00',\n",
       "               '2019-12-26 00:00:00+00:00', '2019-12-27 00:00:00+00:00',\n",
       "               '2019-12-30 00:00:00+00:00', '2019-12-31 00:00:00+00:00'],\n",
       "              dtype='datetime64[ns, UTC]', length=1258, freq=None)"
      ]
     },
     "execution_count": 52,
     "metadata": {},
     "output_type": "execute_result"
    }
   ],
   "source": [
    "import pandas_market_calendars as mcal\n",
    "nyse = mcal.get_calendar('NYSE')\n",
    "\n",
    "nyse.valid_days(df.index[0].to_pydatetime(), df.index[-1].to_pydatetime())\n",
    "# Notice this is same length as our df: Great!"
   ]
  },
  {
   "cell_type": "code",
   "execution_count": null,
   "metadata": {},
   "outputs": [],
   "source": []
  },
  {
   "cell_type": "code",
   "execution_count": 53,
   "metadata": {},
   "outputs": [
    {
     "name": "stdout",
     "output_type": "stream",
     "text": [
      "            Days From Start\n",
      "Date                       \n",
      "2015-01-02                0\n",
      "2015-01-05                3\n",
      "2015-01-06                4\n",
      "2015-01-07                5\n",
      "2015-01-08                6\n",
      "...                     ...\n",
      "2019-12-24             1817\n",
      "2019-12-26             1819\n",
      "2019-12-27             1820\n",
      "2019-12-30             1823\n",
      "2019-12-31             1824\n",
      "\n",
      "[1258 rows x 1 columns]\n",
      "<class 'pandas.core.frame.DataFrame'>\n",
      "             Adj Close\n",
      "Date                  \n",
      "2015-01-02   41.269203\n",
      "2015-01-05   40.889702\n",
      "2015-01-06   40.289551\n",
      "2015-01-07   40.801441\n",
      "2015-01-08   42.001751\n",
      "...                ...\n",
      "2019-12-24  154.718277\n",
      "2019-12-26  155.986435\n",
      "2019-12-27  156.271545\n",
      "2019-12-30  154.924728\n",
      "2019-12-31  155.032883\n",
      "\n",
      "[1258 rows x 1 columns]\n",
      "<class 'pandas.core.frame.DataFrame'>\n"
     ]
    },
    {
     "name": "stderr",
     "output_type": "stream",
     "text": [
      "/Users/anderslie/opt/anaconda3/lib/python3.8/site-packages/sklearn/utils/validation.py:72: DataConversionWarning: A column-vector y was passed when a 1d array was expected. Please change the shape of y to (n_samples, ), for example using ravel().\n",
      "  return f(**kwargs)\n"
     ]
    },
    {
     "data": {
      "text/plain": [
       "SVR()"
      ]
     },
     "execution_count": 53,
     "metadata": {},
     "output_type": "execute_result"
    }
   ],
   "source": [
    "from sklearn.svm import SVR\n",
    "\n",
    "model = SVR()\n",
    "\n",
    "x_train = df[['Days From Start']]\n",
    "y_train = df[['Adj Close']]\n",
    "\n",
    "print(x_train)\n",
    "print(type(x_train))\n",
    "print(y_train)\n",
    "print(type(y_train))\n",
    "\n",
    "model.fit(x_train, y_train)"
   ]
  },
  {
   "cell_type": "code",
   "execution_count": 54,
   "metadata": {},
   "outputs": [
    {
     "name": "stdout",
     "output_type": "stream",
     "text": [
      "[datetime.datetime(2019, 1, 1, 0, 0), datetime.datetime(2019, 1, 2, 0, 0), datetime.datetime(2019, 1, 3, 0, 0), datetime.datetime(2019, 1, 4, 0, 0), datetime.datetime(2019, 1, 5, 0, 0), datetime.datetime(2019, 1, 6, 0, 0), datetime.datetime(2019, 1, 7, 0, 0), datetime.datetime(2019, 1, 8, 0, 0), datetime.datetime(2019, 1, 9, 0, 0)]\n",
      "[112.99321773 113.08283688 113.17246112 113.26208985 113.35172245\n",
      " 113.4413583  113.53099675 113.62063717 113.71027891]\n"
     ]
    },
    {
     "data": {
      "text/plain": [
       "array([112.99321773])"
      ]
     },
     "execution_count": 54,
     "metadata": {},
     "output_type": "execute_result"
    }
   ],
   "source": [
    "\n",
    "def predict(date):\n",
    "\t# Predict at datetime\n",
    "\tdays_since_start = (date - df.index[0].to_pydatetime()).days\n",
    "\treturn model.predict([[days_since_start]])\n",
    "\n",
    "def date_range(date_from, date_to):\n",
    "\t'''\n",
    "\tReturn the date range from date_from (inclusive) to date_to (exclusive),\n",
    "\twith a 1-day interval.\n",
    "\n",
    "\tTODO: Ability to exclude non NYSE dates from range\n",
    "\t'''\n",
    "\tdays = (date_to - date_from).days\n",
    "\treturn [date_from + timedelta(days=x) for x in range(days)]\n",
    "\n",
    "def predict_range(date_from, date_to):\n",
    "\t#base = date_from\n",
    "\t#days = (date_to - date_from).days\n",
    "\t#dates = [base - datetime.timedelta(days=x) for x in days]\n",
    "\tbase = df.index[0].to_pydatetime()\n",
    "\tassert base < date_from < date_to\n",
    "\tbase_diff_from = (date_from - base).days\n",
    "\tbase_diff_to = (date_to - base).days\n",
    "\n",
    "\n",
    "\tdays_since_start_arr = list(range(base_diff_from, base_diff_to))\n",
    "\t#days_since_start_arr = [(base - date).days for ]\n",
    "\treturn model.predict([[days_since_start] for days_since_start in days_since_start_arr])\n",
    "\n",
    "print(date_range(datetime(2019, 1, 1), datetime(2019,1,10)))\n",
    "\n",
    "print(predict_range(datetime(2019, 1, 1), datetime(2019,1,10)))\n",
    "\n",
    "#model.predict([[df.index[-1]]])\n",
    "predict(datetime(2019, 1, 1))\n",
    "\n"
   ]
  },
  {
   "cell_type": "code",
   "execution_count": 57,
   "metadata": {},
   "outputs": [
    {
     "data": {
      "text/html": [
       "<div>\n",
       "<style scoped>\n",
       "    .dataframe tbody tr th:only-of-type {\n",
       "        vertical-align: middle;\n",
       "    }\n",
       "\n",
       "    .dataframe tbody tr th {\n",
       "        vertical-align: top;\n",
       "    }\n",
       "\n",
       "    .dataframe thead th {\n",
       "        text-align: right;\n",
       "    }\n",
       "</style>\n",
       "<table border=\"1\" class=\"dataframe\">\n",
       "  <thead>\n",
       "    <tr style=\"text-align: right;\">\n",
       "      <th></th>\n",
       "      <th>Adj Close</th>\n",
       "    </tr>\n",
       "  </thead>\n",
       "  <tbody>\n",
       "    <tr>\n",
       "      <th>2019-01-01</th>\n",
       "      <td>112.993218</td>\n",
       "    </tr>\n",
       "    <tr>\n",
       "      <th>2019-01-02</th>\n",
       "      <td>113.082837</td>\n",
       "    </tr>\n",
       "    <tr>\n",
       "      <th>2019-01-03</th>\n",
       "      <td>113.172461</td>\n",
       "    </tr>\n",
       "    <tr>\n",
       "      <th>2019-01-04</th>\n",
       "      <td>113.262090</td>\n",
       "    </tr>\n",
       "    <tr>\n",
       "      <th>2019-01-05</th>\n",
       "      <td>113.351722</td>\n",
       "    </tr>\n",
       "    <tr>\n",
       "      <th>2019-01-06</th>\n",
       "      <td>113.441358</td>\n",
       "    </tr>\n",
       "    <tr>\n",
       "      <th>2019-01-07</th>\n",
       "      <td>113.530997</td>\n",
       "    </tr>\n",
       "    <tr>\n",
       "      <th>2019-01-08</th>\n",
       "      <td>113.620637</td>\n",
       "    </tr>\n",
       "    <tr>\n",
       "      <th>2019-01-09</th>\n",
       "      <td>113.710279</td>\n",
       "    </tr>\n",
       "  </tbody>\n",
       "</table>\n",
       "</div>"
      ],
      "text/plain": [
       "             Adj Close\n",
       "2019-01-01  112.993218\n",
       "2019-01-02  113.082837\n",
       "2019-01-03  113.172461\n",
       "2019-01-04  113.262090\n",
       "2019-01-05  113.351722\n",
       "2019-01-06  113.441358\n",
       "2019-01-07  113.530997\n",
       "2019-01-08  113.620637\n",
       "2019-01-09  113.710279"
      ]
     },
     "execution_count": 57,
     "metadata": {},
     "output_type": "execute_result"
    }
   ],
   "source": [
    "import pandas as pd\n",
    "\n",
    "def predict_range_v2(date_from, date_to):\n",
    "\tglobal df # df used for training\n",
    "\tbase = df.index[0].to_pydatetime()\n",
    "\tassert base <= date_from < date_to\n",
    "\tbase_diff_from = (date_from - base).days\n",
    "\tbase_diff_to = (date_to - base).days\n",
    "\n",
    "\n",
    "\tdays_since_start_arr = list(range(base_diff_from, base_diff_to))\n",
    "\ty_pred = model.predict([[days_since_start] for days_since_start in days_since_start_arr])\n",
    "\n",
    "\t# Now need to re-index y_pred as df with dates as indices\n",
    "\tdf2 = pd.DataFrame(index=pd.DatetimeIndex(date_range(date_from, date_to)))\n",
    "\tdf2['Adj Close'] = y_pred\n",
    "\treturn df2\n",
    "\n",
    "predict_range_v2(datetime(2019, 1, 1), datetime(2019,1,10))"
   ]
  },
  {
   "cell_type": "code",
   "execution_count": 60,
   "metadata": {},
   "outputs": [
    {
     "data": {
      "image/png": "[encoded data removed]",
      "text/plain": [
       "<Figure size 432x288 with 1 Axes>"
      ]
     },
     "metadata": {
      "needs_background": "light"
     },
     "output_type": "display_data"
    }
   ],
   "source": [
    "train_start_date = df.index[0].to_pydatetime()\n",
    "train_end_date = df.index[-1].to_pydatetime()\n",
    "\n",
    "import matplotlib.pyplot as plt\n",
    "\n",
    "# adj close prediction\n",
    "y_pred = predict_range_v2(train_start_date, train_end_date + timedelta(days=500))\n",
    "\n",
    "\n",
    "plt.plot(y_pred)\n",
    "plt.plot(y_train)\n",
    "plt.show()"
   ]
  }
 ],
 "metadata": {
  "interpreter": {
   "hash": "45f93f91750877b719857fc8120887814e7decde149dfa9c4eaa69e33d66a336"
  },
  "kernelspec": {
   "display_name": "Python 3.8.5 64-bit ('base': conda)",
   "name": "python3"
  },
  "language_info": {
   "codemirror_mode": {
    "name": "ipython",
    "version": 3
   },
   "file_extension": ".py",
   "mimetype": "text/x-python",
   "name": "python",
   "nbconvert_exporter": "python",
   "pygments_lexer": "ipython3",
   "version": "3.8.5"
  },
  "orig_nbformat": 4
 },
 "nbformat": 4,
 "nbformat_minor": 2
}
